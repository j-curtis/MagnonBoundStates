{
 "cells": [
  {
   "cell_type": "code",
   "execution_count": 1,
   "id": "f49a06c9",
   "metadata": {},
   "outputs": [],
   "source": [
    "import numpy as np\n",
    "from matplotlib import pyplot as plt"
   ]
  },
  {
   "cell_type": "code",
   "execution_count": 47,
   "id": "6ddc0a99",
   "metadata": {},
   "outputs": [],
   "source": [
    "### First we construct the basis states\n",
    "### We use a Fock space which we truncate to include at most two split flips\n",
    "### For N = L^2 sites this will have a total dimensionality of 1 +N(N-1)/2 \n",
    "\n",
    "### We can label the states by the following scheme for index i\n",
    "### i = 0 corresponds to the classical Neel state \n",
    "### We then choose two integers (j,k) for j,k = 0, ... , N-1 with j < k\n",
    "### These correspond to a spatial coordinate of j = x + y*L\n",
    "\n",
    "def flatten_coord(r,L):\n",
    "    ### r = (x,y)\n",
    "    x = r[0]\n",
    "    y = r[1]\n",
    "    return x + L*y\n",
    "\n",
    "def unflatten_coord(i,L):\n",
    "    return [i % L , i //L]\n",
    "\n",
    "### This method will, given a linear system size, construct a set of basis vectors and a list of their indices according to the scheme above\n",
    "### For convenience we will put the ground state last since it otherwise ofsets the excited state vector indexing by one\n",
    "def construct_basis(L):\n",
    "    N = L*L\n",
    "    dim = int( 1 + N*(N-1)/2 )\n",
    "    \n",
    "    vecs = [] ### A list of numpy vectors corresponding to basis vectors\n",
    "    index_pairs = [] ### A list of the indices of each corresponding basis vector\n",
    "    \n",
    "    gs = np.zeros(dim,dtype=complex)\n",
    "    gs[0] = 1.\n",
    "    vecs.append(gs)\n",
    "    index_pairs.append([]) ### We encode the ground state excitation site indices as a null list\n",
    "    \n",
    "    index = 1 ### This will increment and be the index of the nonzero element in the basis vector\n",
    "    \n",
    "    for i in range(1,N):\n",
    "        for j in range(0,i):\n",
    "            tmp = np.zeros(dim,dtype=complex)\n",
    "            tmp[index] = 1.\n",
    "            \n",
    "            vecs.append(tmp)\n",
    "            index_pairs.append([i,j])\n",
    "            index += 1\n",
    "            \n",
    "    return vecs, index_pairs\n",
    "\n",
    "### This method will produce an image of the basis functions based on where the spin flips are located\n",
    "### Specifically, it will return a two-dimensional array with the corresponding values of sigma_z on each site\n",
    "def Sz_map(index_pair,L):\n",
    "    sz = np.zeros((L,L))\n",
    "    \n",
    "    ### First we put the spin texture to the ground state spin texture\n",
    "    for x in range(L):\n",
    "        for y in range(L):\n",
    "            sz[x,y] = (-1.)**(x+y)\n",
    "            \n",
    "    ### Unless it is the ground state we now identify the coordinates of the spin flips and flip the spin values there\n",
    "    if index_pair != []:\n",
    "        i = index_pair[0]\n",
    "        j = index_pair[1]\n",
    "        \n",
    "        [x1,y1] = unflatten_coord(i,L)\n",
    "        [x2,y2] = unflatten_coord(j,L)\n",
    "        \n",
    "        sz[x1,y1] *= -1.\n",
    "        sz[x2,y2] *= -1.\n",
    "            \n",
    "    return sz\n",
    "\n",
    "\n",
    "### This returns the value of the operator Sz Sz on sites i,j\n",
    "### We assume the basis constructor has already been called and we pass the vectors and indices \n",
    "def SzSz(i,j,indices):\n",
    "    dim = len(indices)\n",
    "    \n",
    "    mat = np.eye(dim,dtype=complex) ### The action is identity on most basis states\n",
    "\n",
    "    for n in range(dim):\n",
    "        ### We retrieve the value of Sz_j Sz_k for configuration n \n",
    "        sz = Sz_map(indices[n],L)\n",
    "        \n",
    "        [x1,y1] = unflatten_coord(i,L)\n",
    "        [x2,y2] = unflatten_coord(j,L)\n",
    "        \n",
    "        mat[n,n] = 0.25*sz[x1,y1]*sz[x2,y2]\n",
    "        \n",
    "    return mat\n",
    "        \n",
    "    "
   ]
  },
  {
   "cell_type": "code",
   "execution_count": 48,
   "id": "2a60bd1d",
   "metadata": {},
   "outputs": [],
   "source": [
    "L = 4 ### Linear system size extension\n",
    "N = L*L ### Number of sites in system\n",
    "\n",
    "vecs,indices = construct_basis(L)"
   ]
  },
  {
   "cell_type": "code",
   "execution_count": 49,
   "id": "227bd52e",
   "metadata": {},
   "outputs": [
    {
     "data": {
      "image/png": "[encoded data removed]",
      "text/plain": [
       "<Figure size 432x288 with 1 Axes>"
      ]
     },
     "metadata": {
      "needs_background": "light"
     },
     "output_type": "display_data"
    }
   ],
   "source": [
    "plt.imshow(Sz_map([0,L],L))\n",
    "plt.show()"
   ]
  },
  {
   "cell_type": "code",
   "execution_count": 58,
   "id": "30e08982",
   "metadata": {},
   "outputs": [],
   "source": [
    "i = flatten_coord([0,0],L)\n",
    "j = flatten_coord([0,1],L)"
   ]
  },
  {
   "cell_type": "code",
   "execution_count": 59,
   "id": "dca89386",
   "metadata": {},
   "outputs": [
    {
     "data": {
      "image/png": "[encoded data removed]",
      "text/plain": [
       "<Figure size 432x288 with 1 Axes>"
      ]
     },
     "metadata": {
      "needs_background": "light"
     },
     "output_type": "display_data"
    }
   ],
   "source": [
    "plt.plot(np.linalg.eigh(SzSz(i,j,indices))[0])\n",
    "plt.show()"
   ]
  },
  {
   "cell_type": "code",
   "execution_count": null,
   "id": "9cba5329",
   "metadata": {},
   "outputs": [],
   "source": []
  }
 ],
 "metadata": {
  "kernelspec": {
   "display_name": "Python 3 (ipykernel)",
   "language": "python",
   "name": "python3"
  },
  "language_info": {
   "codemirror_mode": {
    "name": "ipython",
    "version": 3
   },
   "file_extension": ".py",
   "mimetype": "text/x-python",
   "name": "python",
   "nbconvert_exporter": "python",
   "pygments_lexer": "ipython3",
   "version": "3.10.12"
  }
 },
 "nbformat": 4,
 "nbformat_minor": 5
}
